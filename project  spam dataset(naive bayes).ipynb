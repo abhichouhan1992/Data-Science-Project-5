{
 "cells": [
  {
   "cell_type": "markdown",
   "id": "e157fd1a-c1b5-413f-a391-160296f845ac",
   "metadata": {},
   "source": [
    "# Project"
   ]
  },
  {
   "cell_type": "code",
   "execution_count": 1,
   "id": "d5f17a7b-f09c-494c-8e10-31470bea961a",
   "metadata": {},
   "outputs": [],
   "source": [
    "# Prediction of spam on Spam-Ham dataset using Naive Bayes algorithm."
   ]
  },
  {
   "cell_type": "markdown",
   "id": "4cde86b8-bfff-4776-82a1-89d73bfab65f",
   "metadata": {},
   "source": [
    "# Introduction"
   ]
  },
  {
   "cell_type": "code",
   "execution_count": 2,
   "id": "1309c4b9-39ad-431d-bdbd-8304648df913",
   "metadata": {},
   "outputs": [],
   "source": [
    "# The spam-ham dataset consists of five thousand one hundred seventy one samples.\n",
    "# Each sample include a Number,Label,text and Label_number. "
   ]
  },
  {
   "cell_type": "markdown",
   "id": "d6a09651-67ee-4cc9-8815-8daa33089d5c",
   "metadata": {},
   "source": [
    "# Problem Domain"
   ]
  },
  {
   "cell_type": "code",
   "execution_count": 3,
   "id": "7b00da79-16c9-496b-a268-88d8508bc2d4",
   "metadata": {},
   "outputs": [],
   "source": [
    "# we have Csv file of Spam dataset and now we see There are  features in dataset \n",
    "# which is in numerical form and 1 label which is in categorical (string) form\n",
    "# so we use Supervised machine learning for better prediction our model.\n",
    "# our model doesn't take string format so we convert string format to numerical format"
   ]
  },
  {
   "cell_type": "markdown",
   "id": "9bdbc4ee-9951-429d-9a4f-41a67d9aecc6",
   "metadata": {},
   "source": [
    "# Solution Domain"
   ]
  },
  {
   "cell_type": "code",
   "execution_count": 4,
   "id": "28b060c7-4548-4b50-b64e-e6b3e67ec88f",
   "metadata": {},
   "outputs": [],
   "source": [
    "# For spam dataset we use Naive Bayes classifier\n",
    "# Naive Bayes algorithm is used for classification problems.\n",
    "# It is highly used in text classification.\n",
    "# In text classification tasks, data contains high dimension (as each word represent one feature in the data).\n",
    "# It is used in spam filtering, sentiment detection, rating classification etc. \n",
    "# The advantage of using naïve Bayes is its speed. It is fast and making prediction is easy with high dimension of data.\n",
    "# This model predicts the probability of an instance belongs to a class with a given set of feature value.\n",
    "# It is a probabilistic classifier. \n",
    "# It is because it assumes that one feature in the model is independent of existence of another feature.\n",
    "# It uses Bayes theorem in the algorithm for training and prediction."
   ]
  },
  {
   "cell_type": "markdown",
   "id": "c52afe54-7a18-4ed2-8695-0b6b78d389c3",
   "metadata": {},
   "source": [
    "# Technology Used"
   ]
  },
  {
   "cell_type": "code",
   "execution_count": 5,
   "id": "983f5091-085d-443a-bbe0-4ddbe8ae092c",
   "metadata": {},
   "outputs": [],
   "source": [
    "# We used Jupyter Notebook for Iris dataset algorithm and also used diffent types of library from python such as numpy, pandas \n",
    "# ,matplotlib, seaborn and Scikit-Learn."
   ]
  },
  {
   "cell_type": "markdown",
   "id": "b42b71cd-98a8-4819-9abe-5bcfcf012828",
   "metadata": {},
   "source": [
    "# Mathematical Formula"
   ]
  },
  {
   "cell_type": "code",
   "execution_count": 6,
   "id": "08cba20c-d22c-4f20-88ea-f5b47d88b85c",
   "metadata": {},
   "outputs": [],
   "source": [
    "# Bayes’ Theorem finds the probability of an event occurring given the probability of another event that has already occurred.\n",
    "# Bayes’ theorem is stated mathematically as the following equation:\n",
    "#    P(A∣B)=P(B∣A)P(A)P(B)P(A∣B)=P(B)P(B∣A)P(A)\n",
    "\n",
    "#    where A and B are events and P(B) ≠ 0\n",
    "\n",
    "#    Basically, we are trying to find probability of event A, given the event B is true. \n",
    "#    Event B is also termed as evidence.\n",
    "#    P(A) is the priori of A (the prior probability, i.e. Probability of event before evidence is seen). \n",
    "#    The evidence is an attribute value of an unknown instance(here, it is event B).\n",
    "#    P(B) is Marginal Probability: Probability of Evidence.\n",
    "#    P(A|B) is a posteriori probability of B, i.e. probability of event after evidence is seen.\n",
    "#    P(B|A) is Likelihood probability i.e the likelihood that a hypothesis will come true based on the evidence."
   ]
  },
  {
   "cell_type": "markdown",
   "id": "3d34720e-f8f7-4a8f-9597-d6f35e6d735c",
   "metadata": {},
   "source": [
    "# Existing Solutions"
   ]
  },
  {
   "cell_type": "markdown",
   "id": "98931a36-183a-47c1-b09d-c78ee642458f",
   "metadata": {},
   "source": [
    "# Importing and preperation of data"
   ]
  },
  {
   "cell_type": "markdown",
   "id": "5e6c044d-0738-4093-af3e-7e519ad0442f",
   "metadata": {},
   "source": [
    "# Import libraries"
   ]
  },
  {
   "cell_type": "code",
   "execution_count": 7,
   "id": "f3b2cdfb-b07a-4c64-bf4b-3833112346de",
   "metadata": {},
   "outputs": [],
   "source": [
    "import numpy as np\n",
    "import pandas as pd\n",
    "from sklearn.model_selection import train_test_split\n",
    "from sklearn.feature_extraction.text import TfidfVectorizer\n",
    "from sklearn.naive_bayes import MultinomialNB  \n",
    "from sklearn.metrics import accuracy_score,confusion_matrix,classification_report\n",
    "import seaborn as sns\n",
    "import matplotlib.pyplot as plt\n",
    "from sklearn.preprocessing import LabelEncoder"
   ]
  },
  {
   "cell_type": "markdown",
   "id": "9ac00363-59a5-4c1c-bc22-111aba686c47",
   "metadata": {},
   "source": [
    "# Load dataset"
   ]
  },
  {
   "cell_type": "code",
   "execution_count": 8,
   "id": "486db35b-9c7a-4d05-9e7b-bb35b0b026d2",
   "metadata": {},
   "outputs": [
    {
     "data": {
      "text/html": [
       "<div>\n",
       "<style scoped>\n",
       "    .dataframe tbody tr th:only-of-type {\n",
       "        vertical-align: middle;\n",
       "    }\n",
       "\n",
       "    .dataframe tbody tr th {\n",
       "        vertical-align: top;\n",
       "    }\n",
       "\n",
       "    .dataframe thead th {\n",
       "        text-align: right;\n",
       "    }\n",
       "</style>\n",
       "<table border=\"1\" class=\"dataframe\">\n",
       "  <thead>\n",
       "    <tr style=\"text-align: right;\">\n",
       "      <th></th>\n",
       "      <th>Unnamed: 0</th>\n",
       "      <th>label</th>\n",
       "      <th>text</th>\n",
       "      <th>label_num</th>\n",
       "    </tr>\n",
       "  </thead>\n",
       "  <tbody>\n",
       "    <tr>\n",
       "      <th>0</th>\n",
       "      <td>605</td>\n",
       "      <td>ham</td>\n",
       "      <td>Subject: enron methanol ; meter # : 988291\\r\\n...</td>\n",
       "      <td>0</td>\n",
       "    </tr>\n",
       "    <tr>\n",
       "      <th>1</th>\n",
       "      <td>2349</td>\n",
       "      <td>ham</td>\n",
       "      <td>Subject: hpl nom for january 9 , 2001\\r\\n( see...</td>\n",
       "      <td>0</td>\n",
       "    </tr>\n",
       "    <tr>\n",
       "      <th>2</th>\n",
       "      <td>3624</td>\n",
       "      <td>ham</td>\n",
       "      <td>Subject: neon retreat\\r\\nho ho ho , we ' re ar...</td>\n",
       "      <td>0</td>\n",
       "    </tr>\n",
       "    <tr>\n",
       "      <th>3</th>\n",
       "      <td>4685</td>\n",
       "      <td>spam</td>\n",
       "      <td>Subject: photoshop , windows , office . cheap ...</td>\n",
       "      <td>1</td>\n",
       "    </tr>\n",
       "    <tr>\n",
       "      <th>4</th>\n",
       "      <td>2030</td>\n",
       "      <td>ham</td>\n",
       "      <td>Subject: re : indian springs\\r\\nthis deal is t...</td>\n",
       "      <td>0</td>\n",
       "    </tr>\n",
       "    <tr>\n",
       "      <th>...</th>\n",
       "      <td>...</td>\n",
       "      <td>...</td>\n",
       "      <td>...</td>\n",
       "      <td>...</td>\n",
       "    </tr>\n",
       "    <tr>\n",
       "      <th>5166</th>\n",
       "      <td>1518</td>\n",
       "      <td>ham</td>\n",
       "      <td>Subject: put the 10 on the ft\\r\\nthe transport...</td>\n",
       "      <td>0</td>\n",
       "    </tr>\n",
       "    <tr>\n",
       "      <th>5167</th>\n",
       "      <td>404</td>\n",
       "      <td>ham</td>\n",
       "      <td>Subject: 3 / 4 / 2000 and following noms\\r\\nhp...</td>\n",
       "      <td>0</td>\n",
       "    </tr>\n",
       "    <tr>\n",
       "      <th>5168</th>\n",
       "      <td>2933</td>\n",
       "      <td>ham</td>\n",
       "      <td>Subject: calpine daily gas nomination\\r\\n&gt;\\r\\n...</td>\n",
       "      <td>0</td>\n",
       "    </tr>\n",
       "    <tr>\n",
       "      <th>5169</th>\n",
       "      <td>1409</td>\n",
       "      <td>ham</td>\n",
       "      <td>Subject: industrial worksheets for august 2000...</td>\n",
       "      <td>0</td>\n",
       "    </tr>\n",
       "    <tr>\n",
       "      <th>5170</th>\n",
       "      <td>4807</td>\n",
       "      <td>spam</td>\n",
       "      <td>Subject: important online banking alert\\r\\ndea...</td>\n",
       "      <td>1</td>\n",
       "    </tr>\n",
       "  </tbody>\n",
       "</table>\n",
       "<p>5171 rows × 4 columns</p>\n",
       "</div>"
      ],
      "text/plain": [
       "      Unnamed: 0 label                                               text  \\\n",
       "0            605   ham  Subject: enron methanol ; meter # : 988291\\r\\n...   \n",
       "1           2349   ham  Subject: hpl nom for january 9 , 2001\\r\\n( see...   \n",
       "2           3624   ham  Subject: neon retreat\\r\\nho ho ho , we ' re ar...   \n",
       "3           4685  spam  Subject: photoshop , windows , office . cheap ...   \n",
       "4           2030   ham  Subject: re : indian springs\\r\\nthis deal is t...   \n",
       "...          ...   ...                                                ...   \n",
       "5166        1518   ham  Subject: put the 10 on the ft\\r\\nthe transport...   \n",
       "5167         404   ham  Subject: 3 / 4 / 2000 and following noms\\r\\nhp...   \n",
       "5168        2933   ham  Subject: calpine daily gas nomination\\r\\n>\\r\\n...   \n",
       "5169        1409   ham  Subject: industrial worksheets for august 2000...   \n",
       "5170        4807  spam  Subject: important online banking alert\\r\\ndea...   \n",
       "\n",
       "      label_num  \n",
       "0             0  \n",
       "1             0  \n",
       "2             0  \n",
       "3             1  \n",
       "4             0  \n",
       "...         ...  \n",
       "5166          0  \n",
       "5167          0  \n",
       "5168          0  \n",
       "5169          0  \n",
       "5170          1  \n",
       "\n",
       "[5171 rows x 4 columns]"
      ]
     },
     "execution_count": 8,
     "metadata": {},
     "output_type": "execute_result"
    }
   ],
   "source": [
    "# import dataset\n",
    "mail_data=pd.read_csv(\"D://spam_ham_dataset.csv\")\n",
    "mail_data"
   ]
  },
  {
   "cell_type": "markdown",
   "id": "8405f554-da46-4fb2-a07a-5020098ba103",
   "metadata": {},
   "source": [
    "# Summarize the Dataset"
   ]
  },
  {
   "cell_type": "code",
   "execution_count": 9,
   "id": "1f13a4f8-e24e-4dd6-bcc0-6803e03a45c5",
   "metadata": {},
   "outputs": [
    {
     "data": {
      "text/plain": [
       "(5171, 4)"
      ]
     },
     "execution_count": 9,
     "metadata": {},
     "output_type": "execute_result"
    }
   ],
   "source": [
    "# It gives how many instances (rows) and how many attributes (columns) in the dataset\n",
    "mail_data.shape"
   ]
  },
  {
   "cell_type": "code",
   "execution_count": 10,
   "id": "2173d357-95da-4711-8316-62fc1161baf0",
   "metadata": {},
   "outputs": [
    {
     "data": {
      "text/html": [
       "<div>\n",
       "<style scoped>\n",
       "    .dataframe tbody tr th:only-of-type {\n",
       "        vertical-align: middle;\n",
       "    }\n",
       "\n",
       "    .dataframe tbody tr th {\n",
       "        vertical-align: top;\n",
       "    }\n",
       "\n",
       "    .dataframe thead th {\n",
       "        text-align: right;\n",
       "    }\n",
       "</style>\n",
       "<table border=\"1\" class=\"dataframe\">\n",
       "  <thead>\n",
       "    <tr style=\"text-align: right;\">\n",
       "      <th></th>\n",
       "      <th>Unnamed: 0</th>\n",
       "      <th>label</th>\n",
       "      <th>text</th>\n",
       "      <th>label_num</th>\n",
       "    </tr>\n",
       "  </thead>\n",
       "  <tbody>\n",
       "    <tr>\n",
       "      <th>0</th>\n",
       "      <td>605</td>\n",
       "      <td>ham</td>\n",
       "      <td>Subject: enron methanol ; meter # : 988291\\r\\n...</td>\n",
       "      <td>0</td>\n",
       "    </tr>\n",
       "    <tr>\n",
       "      <th>1</th>\n",
       "      <td>2349</td>\n",
       "      <td>ham</td>\n",
       "      <td>Subject: hpl nom for january 9 , 2001\\r\\n( see...</td>\n",
       "      <td>0</td>\n",
       "    </tr>\n",
       "    <tr>\n",
       "      <th>2</th>\n",
       "      <td>3624</td>\n",
       "      <td>ham</td>\n",
       "      <td>Subject: neon retreat\\r\\nho ho ho , we ' re ar...</td>\n",
       "      <td>0</td>\n",
       "    </tr>\n",
       "    <tr>\n",
       "      <th>3</th>\n",
       "      <td>4685</td>\n",
       "      <td>spam</td>\n",
       "      <td>Subject: photoshop , windows , office . cheap ...</td>\n",
       "      <td>1</td>\n",
       "    </tr>\n",
       "    <tr>\n",
       "      <th>4</th>\n",
       "      <td>2030</td>\n",
       "      <td>ham</td>\n",
       "      <td>Subject: re : indian springs\\r\\nthis deal is t...</td>\n",
       "      <td>0</td>\n",
       "    </tr>\n",
       "  </tbody>\n",
       "</table>\n",
       "</div>"
      ],
      "text/plain": [
       "   Unnamed: 0 label                                               text  \\\n",
       "0         605   ham  Subject: enron methanol ; meter # : 988291\\r\\n...   \n",
       "1        2349   ham  Subject: hpl nom for january 9 , 2001\\r\\n( see...   \n",
       "2        3624   ham  Subject: neon retreat\\r\\nho ho ho , we ' re ar...   \n",
       "3        4685  spam  Subject: photoshop , windows , office . cheap ...   \n",
       "4        2030   ham  Subject: re : indian springs\\r\\nthis deal is t...   \n",
       "\n",
       "   label_num  \n",
       "0          0  \n",
       "1          0  \n",
       "2          0  \n",
       "3          1  \n",
       "4          0  "
      ]
     },
     "execution_count": 10,
     "metadata": {},
     "output_type": "execute_result"
    }
   ],
   "source": [
    "# It gives first 5 rows data from datase\n",
    "mail_data.head()"
   ]
  },
  {
   "cell_type": "code",
   "execution_count": 11,
   "id": "98044309-42bb-4aca-9d71-dce130aab610",
   "metadata": {},
   "outputs": [
    {
     "data": {
      "text/html": [
       "<div>\n",
       "<style scoped>\n",
       "    .dataframe tbody tr th:only-of-type {\n",
       "        vertical-align: middle;\n",
       "    }\n",
       "\n",
       "    .dataframe tbody tr th {\n",
       "        vertical-align: top;\n",
       "    }\n",
       "\n",
       "    .dataframe thead th {\n",
       "        text-align: right;\n",
       "    }\n",
       "</style>\n",
       "<table border=\"1\" class=\"dataframe\">\n",
       "  <thead>\n",
       "    <tr style=\"text-align: right;\">\n",
       "      <th></th>\n",
       "      <th>Unnamed: 0</th>\n",
       "      <th>label</th>\n",
       "      <th>text</th>\n",
       "      <th>label_num</th>\n",
       "    </tr>\n",
       "  </thead>\n",
       "  <tbody>\n",
       "    <tr>\n",
       "      <th>5166</th>\n",
       "      <td>1518</td>\n",
       "      <td>ham</td>\n",
       "      <td>Subject: put the 10 on the ft\\r\\nthe transport...</td>\n",
       "      <td>0</td>\n",
       "    </tr>\n",
       "    <tr>\n",
       "      <th>5167</th>\n",
       "      <td>404</td>\n",
       "      <td>ham</td>\n",
       "      <td>Subject: 3 / 4 / 2000 and following noms\\r\\nhp...</td>\n",
       "      <td>0</td>\n",
       "    </tr>\n",
       "    <tr>\n",
       "      <th>5168</th>\n",
       "      <td>2933</td>\n",
       "      <td>ham</td>\n",
       "      <td>Subject: calpine daily gas nomination\\r\\n&gt;\\r\\n...</td>\n",
       "      <td>0</td>\n",
       "    </tr>\n",
       "    <tr>\n",
       "      <th>5169</th>\n",
       "      <td>1409</td>\n",
       "      <td>ham</td>\n",
       "      <td>Subject: industrial worksheets for august 2000...</td>\n",
       "      <td>0</td>\n",
       "    </tr>\n",
       "    <tr>\n",
       "      <th>5170</th>\n",
       "      <td>4807</td>\n",
       "      <td>spam</td>\n",
       "      <td>Subject: important online banking alert\\r\\ndea...</td>\n",
       "      <td>1</td>\n",
       "    </tr>\n",
       "  </tbody>\n",
       "</table>\n",
       "</div>"
      ],
      "text/plain": [
       "      Unnamed: 0 label                                               text  \\\n",
       "5166        1518   ham  Subject: put the 10 on the ft\\r\\nthe transport...   \n",
       "5167         404   ham  Subject: 3 / 4 / 2000 and following noms\\r\\nhp...   \n",
       "5168        2933   ham  Subject: calpine daily gas nomination\\r\\n>\\r\\n...   \n",
       "5169        1409   ham  Subject: industrial worksheets for august 2000...   \n",
       "5170        4807  spam  Subject: important online banking alert\\r\\ndea...   \n",
       "\n",
       "      label_num  \n",
       "5166          0  \n",
       "5167          0  \n",
       "5168          0  \n",
       "5169          0  \n",
       "5170          1  "
      ]
     },
     "execution_count": 11,
     "metadata": {},
     "output_type": "execute_result"
    }
   ],
   "source": [
    "# It gives last 5 rows data from datase\n",
    "mail_data.tail()"
   ]
  },
  {
   "cell_type": "code",
   "execution_count": 12,
   "id": "d3c684e1-d0b4-43cb-b9c7-8583bab7c193",
   "metadata": {},
   "outputs": [
    {
     "name": "stdout",
     "output_type": "stream",
     "text": [
      "<class 'pandas.core.frame.DataFrame'>\n",
      "RangeIndex: 5171 entries, 0 to 5170\n",
      "Data columns (total 4 columns):\n",
      " #   Column      Non-Null Count  Dtype \n",
      "---  ------      --------------  ----- \n",
      " 0   Unnamed: 0  5171 non-null   int64 \n",
      " 1   label       5171 non-null   object\n",
      " 2   text        5171 non-null   object\n",
      " 3   label_num   5171 non-null   int64 \n",
      "dtypes: int64(2), object(2)\n",
      "memory usage: 161.7+ KB\n"
     ]
    }
   ],
   "source": [
    "# It shows the information of dataset\n",
    "mail_data.info()"
   ]
  },
  {
   "cell_type": "code",
   "execution_count": 13,
   "id": "015eeb7d-8a94-4f1d-a951-70ec7405d2e1",
   "metadata": {},
   "outputs": [
    {
     "data": {
      "text/html": [
       "<div>\n",
       "<style scoped>\n",
       "    .dataframe tbody tr th:only-of-type {\n",
       "        vertical-align: middle;\n",
       "    }\n",
       "\n",
       "    .dataframe tbody tr th {\n",
       "        vertical-align: top;\n",
       "    }\n",
       "\n",
       "    .dataframe thead th {\n",
       "        text-align: right;\n",
       "    }\n",
       "</style>\n",
       "<table border=\"1\" class=\"dataframe\">\n",
       "  <thead>\n",
       "    <tr style=\"text-align: right;\">\n",
       "      <th></th>\n",
       "      <th>Unnamed: 0</th>\n",
       "      <th>label_num</th>\n",
       "    </tr>\n",
       "  </thead>\n",
       "  <tbody>\n",
       "    <tr>\n",
       "      <th>count</th>\n",
       "      <td>5171.000000</td>\n",
       "      <td>5171.000000</td>\n",
       "    </tr>\n",
       "    <tr>\n",
       "      <th>mean</th>\n",
       "      <td>2585.000000</td>\n",
       "      <td>0.289886</td>\n",
       "    </tr>\n",
       "    <tr>\n",
       "      <th>std</th>\n",
       "      <td>1492.883452</td>\n",
       "      <td>0.453753</td>\n",
       "    </tr>\n",
       "    <tr>\n",
       "      <th>min</th>\n",
       "      <td>0.000000</td>\n",
       "      <td>0.000000</td>\n",
       "    </tr>\n",
       "    <tr>\n",
       "      <th>25%</th>\n",
       "      <td>1292.500000</td>\n",
       "      <td>0.000000</td>\n",
       "    </tr>\n",
       "    <tr>\n",
       "      <th>50%</th>\n",
       "      <td>2585.000000</td>\n",
       "      <td>0.000000</td>\n",
       "    </tr>\n",
       "    <tr>\n",
       "      <th>75%</th>\n",
       "      <td>3877.500000</td>\n",
       "      <td>1.000000</td>\n",
       "    </tr>\n",
       "    <tr>\n",
       "      <th>max</th>\n",
       "      <td>5170.000000</td>\n",
       "      <td>1.000000</td>\n",
       "    </tr>\n",
       "  </tbody>\n",
       "</table>\n",
       "</div>"
      ],
      "text/plain": [
       "        Unnamed: 0    label_num\n",
       "count  5171.000000  5171.000000\n",
       "mean   2585.000000     0.289886\n",
       "std    1492.883452     0.453753\n",
       "min       0.000000     0.000000\n",
       "25%    1292.500000     0.000000\n",
       "50%    2585.000000     0.000000\n",
       "75%    3877.500000     1.000000\n",
       "max    5170.000000     1.000000"
      ]
     },
     "execution_count": 13,
     "metadata": {},
     "output_type": "execute_result"
    }
   ],
   "source": [
    "# It describe the dataset\n",
    "mail_data.describe()"
   ]
  },
  {
   "cell_type": "code",
   "execution_count": 14,
   "id": "4addd9ee-2325-461d-b423-4e2e1c0f3f22",
   "metadata": {},
   "outputs": [
    {
     "data": {
      "text/plain": [
       "Unnamed: 0    0\n",
       "label         0\n",
       "text          0\n",
       "label_num     0\n",
       "dtype: int64"
      ]
     },
     "execution_count": 14,
     "metadata": {},
     "output_type": "execute_result"
    }
   ],
   "source": [
    "# it checks whether null value in the dataset.\n",
    "# there is no null value in Spam dataset.\n",
    "mail_data.isnull().sum()"
   ]
  },
  {
   "cell_type": "code",
   "execution_count": 15,
   "id": "bfb18589-a258-40e1-8ef1-ac60d0ace7bd",
   "metadata": {},
   "outputs": [],
   "source": [
    "# Dividing data into features(independent variable) and labels(dependent variable)\n",
    "X=mail_data[\"text\"]\n",
    "y=mail_data[\"label\"]"
   ]
  },
  {
   "cell_type": "code",
   "execution_count": 16,
   "id": "7aabd995-c65b-4b32-bfaf-d49e627d2aef",
   "metadata": {},
   "outputs": [
    {
     "data": {
      "text/plain": [
       "0       Subject: enron methanol ; meter # : 988291\\r\\n...\n",
       "1       Subject: hpl nom for january 9 , 2001\\r\\n( see...\n",
       "2       Subject: neon retreat\\r\\nho ho ho , we ' re ar...\n",
       "3       Subject: photoshop , windows , office . cheap ...\n",
       "4       Subject: re : indian springs\\r\\nthis deal is t...\n",
       "                              ...                        \n",
       "5166    Subject: put the 10 on the ft\\r\\nthe transport...\n",
       "5167    Subject: 3 / 4 / 2000 and following noms\\r\\nhp...\n",
       "5168    Subject: calpine daily gas nomination\\r\\n>\\r\\n...\n",
       "5169    Subject: industrial worksheets for august 2000...\n",
       "5170    Subject: important online banking alert\\r\\ndea...\n",
       "Name: text, Length: 5171, dtype: object"
      ]
     },
     "execution_count": 16,
     "metadata": {},
     "output_type": "execute_result"
    }
   ],
   "source": [
    "X"
   ]
  },
  {
   "cell_type": "code",
   "execution_count": 17,
   "id": "a3b477ab-592d-46a7-a84e-b0a59f55da95",
   "metadata": {},
   "outputs": [
    {
     "data": {
      "text/plain": [
       "0        ham\n",
       "1        ham\n",
       "2        ham\n",
       "3       spam\n",
       "4        ham\n",
       "        ... \n",
       "5166     ham\n",
       "5167     ham\n",
       "5168     ham\n",
       "5169     ham\n",
       "5170    spam\n",
       "Name: label, Length: 5171, dtype: object"
      ]
     },
     "execution_count": 17,
     "metadata": {},
     "output_type": "execute_result"
    }
   ],
   "source": [
    "y"
   ]
  },
  {
   "cell_type": "markdown",
   "id": "1bbb91ac-434b-42dc-bf61-ed2ba47d7194",
   "metadata": {},
   "source": [
    "# Data visualisation"
   ]
  },
  {
   "cell_type": "code",
   "execution_count": 38,
   "id": "7a0ee759-ed26-4d2e-8feb-27b7dc0178fc",
   "metadata": {},
   "outputs": [
    {
     "data": {
      "image/png": "[encoded data removed]",
      "text/plain": [
       "<Figure size 1500x1000 with 1 Axes>"
      ]
     },
     "metadata": {},
     "output_type": "display_data"
    }
   ],
   "source": [
    "plt.figure(figsize=(15, 10))\n",
    "sns.countplot(x='label', data=mail_data)\n",
    "plt.title('Label Distribution')\n",
    "plt.show()"
   ]
  },
  {
   "cell_type": "code",
   "execution_count": 19,
   "id": "7a0fffb3-e165-4d28-88d1-cb54094ffe95",
   "metadata": {},
   "outputs": [
    {
     "data": {
      "text/plain": [
       "label\n",
       "ham     3672\n",
       "spam    1499\n",
       "Name: count, dtype: int64"
      ]
     },
     "execution_count": 19,
     "metadata": {},
     "output_type": "execute_result"
    }
   ],
   "source": [
    "mail= mail_data['label'].value_counts()\n",
    "mail"
   ]
  },
  {
   "cell_type": "code",
   "execution_count": 37,
   "id": "cd3f0fed-48d0-4ad0-9903-d615ad077a37",
   "metadata": {},
   "outputs": [
    {
     "data": {
      "image/png": "[encoded data removed]",
      "text/plain": [
       "<Figure size 640x480 with 1 Axes>"
      ]
     },
     "metadata": {},
     "output_type": "display_data"
    }
   ],
   "source": [
    "plt.pie(mail, labels=['ham', 'spam'] ,autopct='%.2f%%', colors=['green','cyan'])\n",
    "plt.legend()\n",
    "plt.title('Ham and Spam')\n",
    "plt.show()"
   ]
  },
  {
   "cell_type": "code",
   "execution_count": 21,
   "id": "ff483cfe-8234-4d8f-a955-24e271807abb",
   "metadata": {},
   "outputs": [
    {
     "name": "stderr",
     "output_type": "stream",
     "text": [
      "C:\\Users\\megha\\anaconda3\\Lib\\site-packages\\seaborn\\axisgrid.py:118: UserWarning: The figure layout has changed to tight\n",
      "  self._figure.tight_layout(*args, **kwargs)\n"
     ]
    },
    {
     "data": {
      "image/png": "[encoded data removed]",
      "text/plain": [
       "<Figure size 500x500 with 1 Axes>"
      ]
     },
     "metadata": {},
     "output_type": "display_data"
    }
   ],
   "source": [
    "sns.displot(mail_data['label_num'],kde=True)\n",
    "plt.show()"
   ]
  },
  {
   "cell_type": "code",
   "execution_count": null,
   "id": "90fbd33b-e867-40fa-8286-fd93ca20c657",
   "metadata": {},
   "outputs": [],
   "source": []
  },
  {
   "cell_type": "code",
   "execution_count": 22,
   "id": "4080d5ec-a3f1-457b-bffa-954abd52bc4d",
   "metadata": {},
   "outputs": [
    {
     "data": {
      "text/html": [
       "<div>\n",
       "<style scoped>\n",
       "    .dataframe tbody tr th:only-of-type {\n",
       "        vertical-align: middle;\n",
       "    }\n",
       "\n",
       "    .dataframe tbody tr th {\n",
       "        vertical-align: top;\n",
       "    }\n",
       "\n",
       "    .dataframe thead th {\n",
       "        text-align: right;\n",
       "    }\n",
       "</style>\n",
       "<table border=\"1\" class=\"dataframe\">\n",
       "  <thead>\n",
       "    <tr style=\"text-align: right;\">\n",
       "      <th></th>\n",
       "      <th>label</th>\n",
       "      <th>label_num</th>\n",
       "    </tr>\n",
       "  </thead>\n",
       "  <tbody>\n",
       "    <tr>\n",
       "      <th>1</th>\n",
       "      <td>spam</td>\n",
       "      <td>1.0</td>\n",
       "    </tr>\n",
       "    <tr>\n",
       "      <th>0</th>\n",
       "      <td>ham</td>\n",
       "      <td>0.0</td>\n",
       "    </tr>\n",
       "  </tbody>\n",
       "</table>\n",
       "</div>"
      ],
      "text/plain": [
       "  label  label_num\n",
       "1  spam        1.0\n",
       "0   ham        0.0"
      ]
     },
     "execution_count": 22,
     "metadata": {},
     "output_type": "execute_result"
    }
   ],
   "source": [
    "mail_data[[\"label\",\"label_num\"]].groupby([\"label\"], as_index = False).mean().sort_values(by=\"label_num\",ascending = False)"
   ]
  },
  {
   "cell_type": "code",
   "execution_count": 23,
   "id": "a0d02745-76ad-42e7-86c1-3e605b7b3d38",
   "metadata": {},
   "outputs": [
    {
     "data": {
      "text/plain": [
       "array([0, 0, 0, ..., 0, 0, 1])"
      ]
     },
     "execution_count": 23,
     "metadata": {},
     "output_type": "execute_result"
    }
   ],
   "source": [
    "# In this dataset our dependent vvariable in string form so we use LabelEncoder to convert string into numerical form.\n",
    "#ham==0\n",
    "#spam==1\n",
    "encoder=LabelEncoder()\n",
    "y=encoder.fit_transform(y)\n",
    "y"
   ]
  },
  {
   "cell_type": "code",
   "execution_count": 24,
   "id": "382910d3-20d8-4dc1-99db-8deeffa7e882",
   "metadata": {},
   "outputs": [],
   "source": [
    "#Feature extraction--- Feature extraction refers to the process of transforming raw data into numerical features that can be processed \n",
    "#while preserving the information in the original data set. \n",
    "#It yields better results than applying machine learning directly to the raw data.\n",
    "\n",
    "\n",
    "feature_extraction=TfidfVectorizer(min_df=1,stop_words='english')\n",
    "X_feature=feature_extraction.fit_transform( X)"
   ]
  },
  {
   "cell_type": "code",
   "execution_count": 25,
   "id": "53010f10-f651-484b-af7b-2b618b675fb7",
   "metadata": {},
   "outputs": [
    {
     "name": "stdout",
     "output_type": "stream",
     "text": [
      "  (0, 37277)\t0.2011097309413472\n",
      "  (0, 17826)\t0.2392098021343849\n",
      "  (0, 7216)\t0.1904342633768622\n",
      "  (0, 32458)\t0.15611810136067314\n",
      "  (0, 11853)\t0.12297449106504706\n",
      "  (0, 13882)\t0.16097016125305302\n",
      "  (0, 21604)\t0.09031870628106299\n",
      "  (0, 33380)\t0.22464796050060742\n",
      "  (0, 5141)\t0.16330305397181255\n",
      "  (0, 38455)\t0.18654788930756974\n",
      "  (0, 49869)\t0.17077874338809632\n",
      "  (0, 36555)\t0.2011097309413472\n",
      "  (0, 47605)\t0.11813966930318913\n",
      "  (0, 15070)\t0.26506114668840103\n",
      "  (0, 36121)\t0.2304064936785402\n",
      "  (0, 34299)\t0.27312912121289434\n",
      "  (0, 15168)\t0.09383338654057037\n",
      "  (0, 37033)\t0.17198604767379225\n",
      "  (0, 15225)\t0.16554063068104793\n",
      "  (0, 20643)\t0.12642883285390433\n",
      "  (0, 36490)\t0.20964545173769655\n",
      "  (0, 0)\t0.10426983213156465\n",
      "  (0, 31571)\t0.14947169013950107\n",
      "  (0, 21659)\t0.20324385893640598\n",
      "  (0, 33042)\t0.14755582683265941\n",
      "  :\t:\n",
      "  (5170, 40944)\t0.043825552681914126\n",
      "  (5170, 19502)\t0.06940047912119972\n",
      "  (5170, 48113)\t0.06743231879609364\n",
      "  (5170, 5896)\t0.07807203338816637\n",
      "  (5170, 39943)\t0.0654536507459819\n",
      "  (5170, 25582)\t0.04084595884272012\n",
      "  (5170, 25931)\t0.060842568812869834\n",
      "  (5170, 41025)\t0.11074677663035766\n",
      "  (5170, 7528)\t0.06905149192063627\n",
      "  (5170, 268)\t0.034142006565318614\n",
      "  (5170, 21370)\t0.05574695522298963\n",
      "  (5170, 6815)\t0.07327442668249698\n",
      "  (5170, 12642)\t0.05049708257577212\n",
      "  (5170, 29821)\t0.045788574177944755\n",
      "  (5170, 33780)\t0.32156994184710264\n",
      "  (5170, 32467)\t0.0520749217466965\n",
      "  (5170, 30849)\t0.13139963528249582\n",
      "  (5170, 13830)\t0.060033187232779735\n",
      "  (5170, 31235)\t0.07559776400175358\n",
      "  (5170, 25157)\t0.06481291025635455\n",
      "  (5170, 20756)\t0.0445653878572119\n",
      "  (5170, 16946)\t0.05332923495537823\n",
      "  (5170, 44941)\t0.04048151839656568\n",
      "  (5170, 33042)\t0.05448307092167786\n",
      "  (5170, 43337)\t0.013260748263266092\n"
     ]
    }
   ],
   "source": [
    "print(X_feature)"
   ]
  },
  {
   "cell_type": "code",
   "execution_count": 26,
   "id": "64dc3d11-d10e-4b4a-b2c5-c898e8050942",
   "metadata": {},
   "outputs": [],
   "source": [
    "y=y.astype('int')"
   ]
  },
  {
   "cell_type": "markdown",
   "id": "b9426abc-366d-4bd1-a942-9b736bba37fe",
   "metadata": {},
   "source": [
    "# Spliting dataset into training set and test set"
   ]
  },
  {
   "cell_type": "code",
   "execution_count": 27,
   "id": "e2d4b116-01ee-4937-bac8-e0ebcdbe9be2",
   "metadata": {},
   "outputs": [
    {
     "data": {
      "text/plain": [
       "((5171,), (3878, 50140), (1293, 50140))"
      ]
     },
     "execution_count": 27,
     "metadata": {},
     "output_type": "execute_result"
    }
   ],
   "source": [
    "X_train, X_test, y_train, y_test = train_test_split(X_feature, y, test_size=0.25, random_state=0)\n"
   ]
  },
  {
   "cell_type": "code",
   "execution_count": null,
   "id": "2a2c568f",
   "metadata": {},
   "outputs": [],
   "source": [
    "# it shows the shape of feature ,training data of feature and testing data of feature\n",
    "X.shape, X_train.shape, X_test.shape"
   ]
  },
  {
   "cell_type": "code",
   "execution_count": 28,
   "id": "525e5276-8ea0-4f57-b8bb-409b0e538f91",
   "metadata": {},
   "outputs": [
    {
     "data": {
      "text/html": [
       "<style>#sk-container-id-1 {color: black;}#sk-container-id-1 pre{padding: 0;}#sk-container-id-1 div.sk-toggleable {background-color: white;}#sk-container-id-1 label.sk-toggleable__label {cursor: pointer;display: block;width: 100%;margin-bottom: 0;padding: 0.3em;box-sizing: border-box;text-align: center;}#sk-container-id-1 label.sk-toggleable__label-arrow:before {content: \"▸\";float: left;margin-right: 0.25em;color: #696969;}#sk-container-id-1 label.sk-toggleable__label-arrow:hover:before {color: black;}#sk-container-id-1 div.sk-estimator:hover label.sk-toggleable__label-arrow:before {color: black;}#sk-container-id-1 div.sk-toggleable__content {max-height: 0;max-width: 0;overflow: hidden;text-align: left;background-color: #f0f8ff;}#sk-container-id-1 div.sk-toggleable__content pre {margin: 0.2em;color: black;border-radius: 0.25em;background-color: #f0f8ff;}#sk-container-id-1 input.sk-toggleable__control:checked~div.sk-toggleable__content {max-height: 200px;max-width: 100%;overflow: auto;}#sk-container-id-1 input.sk-toggleable__control:checked~label.sk-toggleable__label-arrow:before {content: \"▾\";}#sk-container-id-1 div.sk-estimator input.sk-toggleable__control:checked~label.sk-toggleable__label {background-color: #d4ebff;}#sk-container-id-1 div.sk-label input.sk-toggleable__control:checked~label.sk-toggleable__label {background-color: #d4ebff;}#sk-container-id-1 input.sk-hidden--visually {border: 0;clip: rect(1px 1px 1px 1px);clip: rect(1px, 1px, 1px, 1px);height: 1px;margin: -1px;overflow: hidden;padding: 0;position: absolute;width: 1px;}#sk-container-id-1 div.sk-estimator {font-family: monospace;background-color: #f0f8ff;border: 1px dotted black;border-radius: 0.25em;box-sizing: border-box;margin-bottom: 0.5em;}#sk-container-id-1 div.sk-estimator:hover {background-color: #d4ebff;}#sk-container-id-1 div.sk-parallel-item::after {content: \"\";width: 100%;border-bottom: 1px solid gray;flex-grow: 1;}#sk-container-id-1 div.sk-label:hover label.sk-toggleable__label {background-color: #d4ebff;}#sk-container-id-1 div.sk-serial::before {content: \"\";position: absolute;border-left: 1px solid gray;box-sizing: border-box;top: 0;bottom: 0;left: 50%;z-index: 0;}#sk-container-id-1 div.sk-serial {display: flex;flex-direction: column;align-items: center;background-color: white;padding-right: 0.2em;padding-left: 0.2em;position: relative;}#sk-container-id-1 div.sk-item {position: relative;z-index: 1;}#sk-container-id-1 div.sk-parallel {display: flex;align-items: stretch;justify-content: center;background-color: white;position: relative;}#sk-container-id-1 div.sk-item::before, #sk-container-id-1 div.sk-parallel-item::before {content: \"\";position: absolute;border-left: 1px solid gray;box-sizing: border-box;top: 0;bottom: 0;left: 50%;z-index: -1;}#sk-container-id-1 div.sk-parallel-item {display: flex;flex-direction: column;z-index: 1;position: relative;background-color: white;}#sk-container-id-1 div.sk-parallel-item:first-child::after {align-self: flex-end;width: 50%;}#sk-container-id-1 div.sk-parallel-item:last-child::after {align-self: flex-start;width: 50%;}#sk-container-id-1 div.sk-parallel-item:only-child::after {width: 0;}#sk-container-id-1 div.sk-dashed-wrapped {border: 1px dashed gray;margin: 0 0.4em 0.5em 0.4em;box-sizing: border-box;padding-bottom: 0.4em;background-color: white;}#sk-container-id-1 div.sk-label label {font-family: monospace;font-weight: bold;display: inline-block;line-height: 1.2em;}#sk-container-id-1 div.sk-label-container {text-align: center;}#sk-container-id-1 div.sk-container {/* jupyter's `normalize.less` sets `[hidden] { display: none; }` but bootstrap.min.css set `[hidden] { display: none !important; }` so we also need the `!important` here to be able to override the default hidden behavior on the sphinx rendered scikit-learn.org. See: https://github.com/scikit-learn/scikit-learn/issues/21755 */display: inline-block !important;position: relative;}#sk-container-id-1 div.sk-text-repr-fallback {display: none;}</style><div id=\"sk-container-id-1\" class=\"sk-top-container\"><div class=\"sk-text-repr-fallback\"><pre>MultinomialNB()</pre><b>In a Jupyter environment, please rerun this cell to show the HTML representation or trust the notebook. <br />On GitHub, the HTML representation is unable to render, please try loading this page with nbviewer.org.</b></div><div class=\"sk-container\" hidden><div class=\"sk-item\"><div class=\"sk-estimator sk-toggleable\"><input class=\"sk-toggleable__control sk-hidden--visually\" id=\"sk-estimator-id-1\" type=\"checkbox\" checked><label for=\"sk-estimator-id-1\" class=\"sk-toggleable__label sk-toggleable__label-arrow\">MultinomialNB</label><div class=\"sk-toggleable__content\"><pre>MultinomialNB()</pre></div></div></div></div></div>"
      ],
      "text/plain": [
       "MultinomialNB()"
      ]
     },
     "execution_count": 28,
     "metadata": {},
     "output_type": "execute_result"
    }
   ],
   "source": [
    "# Initiate learning model \n",
    "clf=MultinomialNB()\n",
    "\n",
    "# Fitting the data into the model\n",
    "clf.fit(X_feature,y)"
   ]
  },
  {
   "cell_type": "code",
   "execution_count": 29,
   "id": "ae8154cd-9638-4c8d-a984-90374c0f405b",
   "metadata": {},
   "outputs": [
    {
     "data": {
      "text/plain": [
       "array([0, 0, 0, ..., 1, 0, 0])"
      ]
     },
     "execution_count": 29,
     "metadata": {},
     "output_type": "execute_result"
    }
   ],
   "source": [
    "# Predicting the train set of dataset\n",
    "y_pred_train=clf.predict(X_train)\n",
    "y_pred_train"
   ]
  },
  {
   "cell_type": "code",
   "execution_count": 30,
   "id": "c2655223-122d-4679-af20-4f56adfb3d22",
   "metadata": {},
   "outputs": [
    {
     "data": {
      "text/plain": [
       "array([0, 0, 0, ..., 1, 1, 0])"
      ]
     },
     "execution_count": 30,
     "metadata": {},
     "output_type": "execute_result"
    }
   ],
   "source": [
    "# Predicting the test set of dataset\n",
    "y_pred_test=clf.predict(X_test)\n",
    "y_pred_test"
   ]
  },
  {
   "cell_type": "markdown",
   "id": "c4762553-ad26-43b8-accc-0a7b37e18da7",
   "metadata": {},
   "source": [
    "# Accuracy Score"
   ]
  },
  {
   "cell_type": "code",
   "execution_count": 31,
   "id": "c0e0bc3c-d1e2-4db7-8218-64f77561f3b7",
   "metadata": {},
   "outputs": [
    {
     "name": "stdout",
     "output_type": "stream",
     "text": [
      "Accuracy score of our model is 97.22\n"
     ]
    }
   ],
   "source": [
    "acc=accuracy_score(y_test,y_pred_test)\n",
    "print (\"Accuracy score of our model is\" ,round(acc*100,2))"
   ]
  },
  {
   "cell_type": "markdown",
   "id": "299db46f-2553-49da-bb08-277f2f9555d9",
   "metadata": {},
   "source": [
    "# Building confusion Matrix"
   ]
  },
  {
   "cell_type": "code",
   "execution_count": 32,
   "id": "c78e1ec2-641b-4ab9-875f-103c0f1e2e75",
   "metadata": {},
   "outputs": [
    {
     "data": {
      "text/plain": [
       "array([[922,   1],\n",
       "       [ 35, 335]], dtype=int64)"
      ]
     },
     "execution_count": 32,
     "metadata": {},
     "output_type": "execute_result"
    }
   ],
   "source": [
    "cf=confusion_matrix(y_test,y_pred_test)\n",
    "cf"
   ]
  },
  {
   "cell_type": "markdown",
   "id": "42391f58-0265-4917-bf83-3fea4792ac23",
   "metadata": {},
   "source": [
    "# plotting heatmap of confusion matrix"
   ]
  },
  {
   "cell_type": "code",
   "execution_count": 33,
   "id": "94173221-efc9-44cf-ae42-3b1afb0f8dd9",
   "metadata": {},
   "outputs": [
    {
     "data": {
      "image/png": "[encoded data removed]",
      "text/plain": [
       "<Figure size 640x480 with 2 Axes>"
      ]
     },
     "metadata": {},
     "output_type": "display_data"
    }
   ],
   "source": [
    "sns.set()\n",
    "sns.heatmap(cf,annot=True)\n",
    "plt.show()"
   ]
  },
  {
   "cell_type": "markdown",
   "id": "81833541-a8cf-45f6-bd5f-385a37083697",
   "metadata": {},
   "source": [
    "# Classification report our model"
   ]
  },
  {
   "cell_type": "code",
   "execution_count": 34,
   "id": "c522cde1-e632-4417-9f79-83da92418504",
   "metadata": {},
   "outputs": [
    {
     "data": {
      "text/plain": [
       "'              precision    recall  f1-score   support\\n\\n           0       0.96      1.00      0.98       923\\n           1       1.00      0.91      0.95       370\\n\\n    accuracy                           0.97      1293\\n   macro avg       0.98      0.95      0.96      1293\\nweighted avg       0.97      0.97      0.97      1293\\n'"
      ]
     },
     "execution_count": 34,
     "metadata": {},
     "output_type": "execute_result"
    }
   ],
   "source": [
    "clr=classification_report(y_test,y_pred_test)\n",
    "clr"
   ]
  },
  {
   "cell_type": "code",
   "execution_count": 35,
   "id": "4e93a95c-f4c3-420f-afe1-b3b1b7fa4e70",
   "metadata": {},
   "outputs": [
    {
     "name": "stdout",
     "output_type": "stream",
     "text": [
      "Email is ham\n"
     ]
    }
   ],
   "source": [
    "#Evaluating predictions \n",
    "\n",
    "input_mail=[\"enron methanol ; meter # : 988291\\\n",
    "this is a follow up to the note i gave you on monday , 4 / 3 / 00 { preliminary\\\n",
    "flow data provided by daren } .\\\n",
    "please override pop ' s daily volume { presently zero } to reflect daily\\\n",
    "activity you can obtain from gas control .\\\n",
    "this change is needed asap for economics purposes .\"]\n",
    "input_mail_feature=feature_extraction.transform(input_mail)   \n",
    "pre=clf.predict(input_mail_feature)\n",
    "if(pre[0]==0):\n",
    "    print(\"Email is ham\")\n",
    "else:\n",
    "    print(\"Email is Spam\")"
   ]
  },
  {
   "cell_type": "markdown",
   "id": "7053e6d5",
   "metadata": {},
   "source": [
    "# Conclusion"
   ]
  },
  {
   "cell_type": "code",
   "execution_count": 36,
   "id": "e71763e1-71d4-42f1-8857-0fe1ffcd88d8",
   "metadata": {},
   "outputs": [],
   "source": [
    "# For this project, I mainly worked through the Python documentation manuals of the Pandas, \n",
    "# Matplotlib and Seaborn modules as well as the Python 3 documentation. \n",
    "# There are many resources freely available for learning how to use Python,\n",
    "# and applying it to analysing datasets such as the Spam dataset. \n",
    "\n",
    "# The pandas library is quite intuitive and in a valuable tool in investigating \n",
    "# and analysing multi-class multi-variates datasets such as the Spam dataset.\n",
    "\n",
    "# I looked at the statistical properties of the Spam data set in this project.\n",
    "# Visualising the data gives a better understanding of the data and what can be done with it.\n",
    "\n",
    "# The Spam data set is referenced quite a bit in machine learning(Specially for Naive Bayes)\n",
    "# ,and many resources on the internet use it to demonstrate their product or to teach machine learning methods.\n",
    "\n",
    "# We used Scikit-Learn library to implement better prediction of model."
   ]
  }
 ],
 "metadata": {
  "kernelspec": {
   "display_name": "Python 3 (ipykernel)",
   "language": "python",
   "name": "python3"
  },
  "language_info": {
   "codemirror_mode": {
    "name": "ipython",
    "version": 3
   },
   "file_extension": ".py",
   "mimetype": "text/x-python",
   "name": "python",
   "nbconvert_exporter": "python",
   "pygments_lexer": "ipython3",
   "version": "3.12.1"
  }
 },
 "nbformat": 4,
 "nbformat_minor": 5
}
